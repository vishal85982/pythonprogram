{
  "nbformat": 4,
  "nbformat_minor": 0,
  "metadata": {
    "colab": {
      "name": "Untitled0.ipynb",
      "provenance": [],
      "collapsed_sections": [],
      "authorship_tag": "ABX9TyNuYKoPrtn8tUqpVvsNMl8C",
      "include_colab_link": true
    },
    "kernelspec": {
      "name": "python3",
      "display_name": "Python 3"
    },
    "language_info": {
      "name": "python"
    }
  },
  "cells": [
    {
      "cell_type": "markdown",
      "metadata": {
        "id": "view-in-github",
        "colab_type": "text"
      },
      "source": [
        "<a href=\"https://colab.research.google.com/github/vishal85982/pythonprogram/blob/master/Untitled0.ipynb\" target=\"_parent\"><img src=\"https://colab.research.google.com/assets/colab-badge.svg\" alt=\"Open In Colab\"/></a>"
      ]
    },
    {
      "cell_type": "markdown",
      "metadata": {
        "id": "clgLK7qb_TYh"
      },
      "source": [
        "Name:-Vaibhav Vishal\n",
        "\n",
        "Reg no:-38120087\n",
        "\n",
        "Sec:-IT(B)"
      ]
    },
    {
      "cell_type": "code",
      "metadata": {
        "id": "6lU3nU_G_Vaz"
      },
      "source": [
        "from pandas import read_csv\n",
        "import numpy"
      ],
      "execution_count": 1,
      "outputs": []
    },
    {
      "cell_type": "code",
      "metadata": {
        "id": "QVYkXZMrACo_"
      },
      "source": [
        "#import the dataset\n",
        "dataset = read_csv(\"/content/sample_data/mnist_train_small.csv\",header=None)"
      ],
      "execution_count": 2,
      "outputs": []
    },
    {
      "cell_type": "code",
      "metadata": {
        "colab": {
          "base_uri": "https://localhost:8080/",
          "height": 0
        },
        "id": "D9sy4l7JB3y6",
        "outputId": "08a06a60-4278-4e17-d685-dc362b90d0d0"
      },
      "source": [
        "#Problem 1\n",
        "print(dataset.describe())"
      ],
      "execution_count": 3,
      "outputs": [
        {
          "output_type": "stream",
          "text": [
            "                0        1        2    ...      782      783      784\n",
            "count  20000.000000  20000.0  20000.0  ...  20000.0  20000.0  20000.0\n",
            "mean       4.470200      0.0      0.0  ...      0.0      0.0      0.0\n",
            "std        2.892755      0.0      0.0  ...      0.0      0.0      0.0\n",
            "min        0.000000      0.0      0.0  ...      0.0      0.0      0.0\n",
            "25%        2.000000      0.0      0.0  ...      0.0      0.0      0.0\n",
            "50%        4.000000      0.0      0.0  ...      0.0      0.0      0.0\n",
            "75%        7.000000      0.0      0.0  ...      0.0      0.0      0.0\n",
            "max        9.000000      0.0      0.0  ...      0.0      0.0      0.0\n",
            "\n",
            "[8 rows x 785 columns]\n"
          ],
          "name": "stdout"
        }
      ]
    },
    {
      "cell_type": "code",
      "metadata": {
        "colab": {
          "base_uri": "https://localhost:8080/",
          "height": 0
        },
        "id": "6gyAiYfnB_wO",
        "outputId": "9b73a1d3-eeb6-49df-83aa-f10abc1ea8e0"
      },
      "source": [
        "#Problem 2\n",
        "print((dataset[[1,2,3,4,5,6,7,8]]==0).sum())"
      ],
      "execution_count": 4,
      "outputs": [
        {
          "output_type": "stream",
          "text": [
            "1    20000\n",
            "2    20000\n",
            "3    20000\n",
            "4    20000\n",
            "5    20000\n",
            "6    20000\n",
            "7    20000\n",
            "8    20000\n",
            "dtype: int64\n"
          ],
          "name": "stdout"
        }
      ]
    },
    {
      "cell_type": "code",
      "metadata": {
        "colab": {
          "base_uri": "https://localhost:8080/",
          "height": 0
        },
        "id": "MtTmSG7YCJeh",
        "outputId": "5822d974-4a9c-4edc-9af8-937b877d4dfc"
      },
      "source": [
        "#Problem 3\n",
        "dataset[[1,2,3,4,5]]=dataset[[1,2,3,4,5]].replace(0,numpy.NaN)\n",
        "print(dataset.isnull().sum())\n",
        "print(dataset.head(20))"
      ],
      "execution_count": 5,
      "outputs": [
        {
          "output_type": "stream",
          "text": [
            "0          0\n",
            "1      20000\n",
            "2      20000\n",
            "3      20000\n",
            "4      20000\n",
            "       ...  \n",
            "780        0\n",
            "781        0\n",
            "782        0\n",
            "783        0\n",
            "784        0\n",
            "Length: 785, dtype: int64\n",
            "    0    1    2    3    4    5    6    ...  778  779  780  781  782  783  784\n",
            "0     6  NaN  NaN  NaN  NaN  NaN    0  ...    0    0    0    0    0    0    0\n",
            "1     5  NaN  NaN  NaN  NaN  NaN    0  ...    0    0    0    0    0    0    0\n",
            "2     7  NaN  NaN  NaN  NaN  NaN    0  ...    0    0    0    0    0    0    0\n",
            "3     9  NaN  NaN  NaN  NaN  NaN    0  ...    0    0    0    0    0    0    0\n",
            "4     5  NaN  NaN  NaN  NaN  NaN    0  ...    0    0    0    0    0    0    0\n",
            "5     2  NaN  NaN  NaN  NaN  NaN    0  ...    0    0    0    0    0    0    0\n",
            "6     0  NaN  NaN  NaN  NaN  NaN    0  ...    0    0    0    0    0    0    0\n",
            "7     6  NaN  NaN  NaN  NaN  NaN    0  ...    0    0    0    0    0    0    0\n",
            "8     5  NaN  NaN  NaN  NaN  NaN    0  ...    0    0    0    0    0    0    0\n",
            "9     5  NaN  NaN  NaN  NaN  NaN    0  ...    0    0    0    0    0    0    0\n",
            "10    2  NaN  NaN  NaN  NaN  NaN    0  ...    0    0    0    0    0    0    0\n",
            "11    7  NaN  NaN  NaN  NaN  NaN    0  ...    0    0    0    0    0    0    0\n",
            "12    7  NaN  NaN  NaN  NaN  NaN    0  ...    0    0    0    0    0    0    0\n",
            "13    6  NaN  NaN  NaN  NaN  NaN    0  ...    0    0    0    0    0    0    0\n",
            "14    8  NaN  NaN  NaN  NaN  NaN    0  ...    0    0    0    0    0    0    0\n",
            "15    9  NaN  NaN  NaN  NaN  NaN    0  ...    0    0    0    0    0    0    0\n",
            "16    3  NaN  NaN  NaN  NaN  NaN    0  ...    0    0    0    0    0    0    0\n",
            "17    5  NaN  NaN  NaN  NaN  NaN    0  ...    0    0    0    0    0    0    0\n",
            "18    7  NaN  NaN  NaN  NaN  NaN    0  ...    0    0    0    0    0    0    0\n",
            "19    6  NaN  NaN  NaN  NaN  NaN    0  ...    0    0    0    0    0    0    0\n",
            "\n",
            "[20 rows x 785 columns]\n"
          ],
          "name": "stdout"
        }
      ]
    },
    {
      "cell_type": "code",
      "metadata": {
        "colab": {
          "base_uri": "https://localhost:8080/",
          "height": 0
        },
        "id": "_UGDJsMJCV4x",
        "outputId": "5adb946b-19d1-4857-b971-a4a7fe817826"
      },
      "source": [
        "#Problem 4\n",
        "dataset.dropna(inplace=True)\n",
        "print(dataset.head(20))\n",
        "print(dataset.describe)\n",
        "print(dataset.shape)"
      ],
      "execution_count": 6,
      "outputs": [
        {
          "output_type": "stream",
          "text": [
            "Empty DataFrame\n",
            "Columns: [0, 1, 2, 3, 4, 5, 6, 7, 8, 9, 10, 11, 12, 13, 14, 15, 16, 17, 18, 19, 20, 21, 22, 23, 24, 25, 26, 27, 28, 29, 30, 31, 32, 33, 34, 35, 36, 37, 38, 39, 40, 41, 42, 43, 44, 45, 46, 47, 48, 49, 50, 51, 52, 53, 54, 55, 56, 57, 58, 59, 60, 61, 62, 63, 64, 65, 66, 67, 68, 69, 70, 71, 72, 73, 74, 75, 76, 77, 78, 79, 80, 81, 82, 83, 84, 85, 86, 87, 88, 89, 90, 91, 92, 93, 94, 95, 96, 97, 98, 99, ...]\n",
            "Index: []\n",
            "\n",
            "[0 rows x 785 columns]\n",
            "<bound method NDFrame.describe of Empty DataFrame\n",
            "Columns: [0, 1, 2, 3, 4, 5, 6, 7, 8, 9, 10, 11, 12, 13, 14, 15, 16, 17, 18, 19, 20, 21, 22, 23, 24, 25, 26, 27, 28, 29, 30, 31, 32, 33, 34, 35, 36, 37, 38, 39, 40, 41, 42, 43, 44, 45, 46, 47, 48, 49, 50, 51, 52, 53, 54, 55, 56, 57, 58, 59, 60, 61, 62, 63, 64, 65, 66, 67, 68, 69, 70, 71, 72, 73, 74, 75, 76, 77, 78, 79, 80, 81, 82, 83, 84, 85, 86, 87, 88, 89, 90, 91, 92, 93, 94, 95, 96, 97, 98, 99, ...]\n",
            "Index: []\n",
            "\n",
            "[0 rows x 785 columns]>\n",
            "(0, 785)\n"
          ],
          "name": "stdout"
        }
      ]
    },
    {
      "cell_type": "code",
      "metadata": {
        "colab": {
          "base_uri": "https://localhost:8080/",
          "height": 0
        },
        "id": "Gl0nqllHCZsf",
        "outputId": "13b3b437-292a-4eb9-93ab-f436b3d11498"
      },
      "source": [
        "#Problem 5\n",
        "dataset.fillna(dataset.mean(),inplace= True)\n",
        "print(dataset.isnull().sum())\n",
        "print(dataset.head(20))"
      ],
      "execution_count": 7,
      "outputs": [
        {
          "output_type": "stream",
          "text": [
            "0      0\n",
            "1      0\n",
            "2      0\n",
            "3      0\n",
            "4      0\n",
            "      ..\n",
            "780    0\n",
            "781    0\n",
            "782    0\n",
            "783    0\n",
            "784    0\n",
            "Length: 785, dtype: int64\n",
            "Empty DataFrame\n",
            "Columns: [0, 1, 2, 3, 4, 5, 6, 7, 8, 9, 10, 11, 12, 13, 14, 15, 16, 17, 18, 19, 20, 21, 22, 23, 24, 25, 26, 27, 28, 29, 30, 31, 32, 33, 34, 35, 36, 37, 38, 39, 40, 41, 42, 43, 44, 45, 46, 47, 48, 49, 50, 51, 52, 53, 54, 55, 56, 57, 58, 59, 60, 61, 62, 63, 64, 65, 66, 67, 68, 69, 70, 71, 72, 73, 74, 75, 76, 77, 78, 79, 80, 81, 82, 83, 84, 85, 86, 87, 88, 89, 90, 91, 92, 93, 94, 95, 96, 97, 98, 99, ...]\n",
            "Index: []\n",
            "\n",
            "[0 rows x 785 columns]\n"
          ],
          "name": "stdout"
        }
      ]
    },
    {
      "cell_type": "code",
      "metadata": {
        "colab": {
          "base_uri": "https://localhost:8080/",
          "height": 0
        },
        "id": "-BSVrJBSCggE",
        "outputId": "783ec246-7eed-43a7-a3ea-43c993879a41"
      },
      "source": [
        "#Problem 6\n",
        "X = dataset.iloc[:,:-1] #Retrieves all the columns except the last column\n",
        "Y = dataset.iloc[:,-1] #Retrieves only the last column\n",
        "\n",
        "print(X)\n",
        "print(Y)"
      ],
      "execution_count": 10,
      "outputs": [
        {
          "output_type": "stream",
          "text": [
            "Empty DataFrame\n",
            "Columns: [0, 1, 2, 3, 4, 5, 6, 7, 8, 9, 10, 11, 12, 13, 14, 15, 16, 17, 18, 19, 20, 21, 22, 23, 24, 25, 26, 27, 28, 29, 30, 31, 32, 33, 34, 35, 36, 37, 38, 39, 40, 41, 42, 43, 44, 45, 46, 47, 48, 49, 50, 51, 52, 53, 54, 55, 56, 57, 58, 59, 60, 61, 62, 63, 64, 65, 66, 67, 68, 69, 70, 71, 72, 73, 74, 75, 76, 77, 78, 79, 80, 81, 82, 83, 84, 85, 86, 87, 88, 89, 90, 91, 92, 93, 94, 95, 96, 97, 98, 99, ...]\n",
            "Index: []\n",
            "\n",
            "[0 rows x 784 columns]\n",
            "Series([], Name: 784, dtype: int64)\n"
          ],
          "name": "stdout"
        }
      ]
    },
    {
      "cell_type": "code",
      "metadata": {
        "id": "b0KTvz3SCvtG"
      },
      "source": [
        ""
      ],
      "execution_count": null,
      "outputs": []
    }
  ]
}